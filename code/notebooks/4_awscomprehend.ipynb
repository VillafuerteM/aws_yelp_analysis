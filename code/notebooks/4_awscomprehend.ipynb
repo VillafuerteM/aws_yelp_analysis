{
 "cells": [
  {
   "cell_type": "code",
   "execution_count": 9,
   "id": "b80be3ea-82e1-4a15-9ebc-9f3e03ab956f",
   "metadata": {
    "tags": []
   },
   "outputs": [],
   "source": [
    "import pandas as pd\n",
    "import boto3"
   ]
  },
  {
   "cell_type": "code",
   "execution_count": 3,
   "id": "4b09250a-8701-4960-9fd0-a666675b524a",
   "metadata": {
    "tags": []
   },
   "outputs": [],
   "source": [
    "df = pd.read_csv('/Users/erwinminor/Downloads/yelp_ihop_reviews.csv')"
   ]
  },
  {
   "cell_type": "code",
   "execution_count": 23,
   "id": "bd79e943-93de-4596-b898-97eedbd9a6aa",
   "metadata": {
    "tags": []
   },
   "outputs": [],
   "source": [
    "comprehend = boto3.client('comprehend')\n",
    "\n",
    "# Función para analizar el sentimiento de una reseña\n",
    "def analyze_sentiment(text):\n",
    "    response = comprehend.detect_sentiment(Text=text, LanguageCode='en')\n",
    "    sentiment = response['Sentiment']\n",
    "    sentiment_scores = response['SentimentScore']\n",
    "    return sentiment, sentiment_scores"
   ]
  },
  {
   "cell_type": "code",
   "execution_count": 24,
   "id": "81f16561-46b9-43cf-bab3-0f7ca147677f",
   "metadata": {
    "tags": []
   },
   "outputs": [],
   "source": [
    "# Aplicar la función a las reseñas y obtener un DataFrame con los resultados\n",
    "df[['Sentiment', 'SentimentScore']] = df['text'].apply(lambda x: pd.Series(analyze_sentiment(x)))"
   ]
  },
  {
   "cell_type": "code",
   "execution_count": 31,
   "id": "c35cc90c-9bb4-4860-9cdd-0b253d58291b",
   "metadata": {
    "tags": []
   },
   "outputs": [],
   "source": [
    "# Función para extraer frases clave de una reseña\n",
    "def extract_key_phrases(text):\n",
    "    response = comprehend.detect_key_phrases(Text=text, LanguageCode='en')\n",
    "    key_phrases = [phrase['Text'] for phrase in response['KeyPhrases']]\n",
    "    return key_phrases"
   ]
  },
  {
   "cell_type": "code",
   "execution_count": 32,
   "id": "d2fa9e55-90b7-45a9-a068-76ce3efc1f9c",
   "metadata": {
    "tags": []
   },
   "outputs": [],
   "source": [
    "# Aplicar la función a las reseñas y obtener un DataFrame con los resultados\n",
    "df['KeyPhrases'] = df['text'].apply(lambda x: extract_key_phrases(x))"
   ]
  },
  {
   "cell_type": "code",
   "execution_count": 33,
   "id": "8e52328e-289a-4440-b979-276c974c7287",
   "metadata": {
    "tags": []
   },
   "outputs": [
    {
     "data": {
      "text/html": [
       "<div>\n",
       "<style scoped>\n",
       "    .dataframe tbody tr th:only-of-type {\n",
       "        vertical-align: middle;\n",
       "    }\n",
       "\n",
       "    .dataframe tbody tr th {\n",
       "        vertical-align: top;\n",
       "    }\n",
       "\n",
       "    .dataframe thead th {\n",
       "        text-align: right;\n",
       "    }\n",
       "</style>\n",
       "<table border=\"1\" class=\"dataframe\">\n",
       "  <thead>\n",
       "    <tr style=\"text-align: right;\">\n",
       "      <th></th>\n",
       "      <th>text</th>\n",
       "      <th>Sentiment</th>\n",
       "      <th>SentimentScore</th>\n",
       "      <th>KeyPhrases</th>\n",
       "    </tr>\n",
       "  </thead>\n",
       "  <tbody>\n",
       "    <tr>\n",
       "      <th>0</th>\n",
       "      <td>It's a crazy place with surprisingly good serv...</td>\n",
       "      <td>POSITIVE</td>\n",
       "      <td>{'Positive': 0.9992786049842834, 'Negative': 7...</td>\n",
       "      <td>[a crazy place, surprisingly good service, dec...</td>\n",
       "    </tr>\n",
       "    <tr>\n",
       "      <th>1</th>\n",
       "      <td>Great Food &amp; Service !! I had the pancakes and...</td>\n",
       "      <td>POSITIVE</td>\n",
       "      <td>{'Positive': 0.8656385540962219, 'Negative': 0...</td>\n",
       "      <td>[the pancakes, Bacon, My wife, the BLT, lots, ...</td>\n",
       "    </tr>\n",
       "    <tr>\n",
       "      <th>2</th>\n",
       "      <td>It was a group of us and we had issues with ou...</td>\n",
       "      <td>NEGATIVE</td>\n",
       "      <td>{'Positive': 0.0001349038939224556, 'Negative'...</td>\n",
       "      <td>[a group, issues, our order, our orders, The c...</td>\n",
       "    </tr>\n",
       "    <tr>\n",
       "      <th>3</th>\n",
       "      <td>Omg. Don't go here....waited and waited for my...</td>\n",
       "      <td>MIXED</td>\n",
       "      <td>{'Positive': 0.08477035909891129, 'Negative': ...</td>\n",
       "      <td>[my food, only half, my pancakes, more ice tea...</td>\n",
       "    </tr>\n",
       "    <tr>\n",
       "      <th>4</th>\n",
       "      <td>Clean restaurant with quick and friendly servi...</td>\n",
       "      <td>MIXED</td>\n",
       "      <td>{'Positive': 0.17850905656814575, 'Negative': ...</td>\n",
       "      <td>[Clean restaurant, quick and friendly service,...</td>\n",
       "    </tr>\n",
       "    <tr>\n",
       "      <th>...</th>\n",
       "      <td>...</td>\n",
       "      <td>...</td>\n",
       "      <td>...</td>\n",
       "      <td>...</td>\n",
       "    </tr>\n",
       "    <tr>\n",
       "      <th>2369</th>\n",
       "      <td>Weren't greeted and left after having been sea...</td>\n",
       "      <td>NEGATIVE</td>\n",
       "      <td>{'Positive': 0.0182338897138834, 'Negative': 0...</td>\n",
       "      <td>[ten minutes, Table, drinks, the same time, Ou...</td>\n",
       "    </tr>\n",
       "    <tr>\n",
       "      <th>2370</th>\n",
       "      <td>I'm disgusted. Never in my life have I eaten a...</td>\n",
       "      <td>NEGATIVE</td>\n",
       "      <td>{'Positive': 0.0005381907103583217, 'Negative'...</td>\n",
       "      <td>[my life, an ihop, my omelet, black hair, a ne...</td>\n",
       "    </tr>\n",
       "    <tr>\n",
       "      <th>2371</th>\n",
       "      <td>We don't really go to Ihops, now and then, but...</td>\n",
       "      <td>MIXED</td>\n",
       "      <td>{'Positive': 0.12145804613828659, 'Negative': ...</td>\n",
       "      <td>[Ihops, This one, a pretty low rating, The dec...</td>\n",
       "    </tr>\n",
       "    <tr>\n",
       "      <th>2372</th>\n",
       "      <td>Breakfast turned into upset stomach morning I ...</td>\n",
       "      <td>NEGATIVE</td>\n",
       "      <td>{'Positive': 0.021291078999638557, 'Negative':...</td>\n",
       "      <td>[Breakfast, upset stomach morning, my breakfas...</td>\n",
       "    </tr>\n",
       "    <tr>\n",
       "      <th>2373</th>\n",
       "      <td>This restuarant has the potential of being a f...</td>\n",
       "      <td>MIXED</td>\n",
       "      <td>{'Positive': 0.011001946404576302, 'Negative':...</td>\n",
       "      <td>[This restuarant, the potential, a five star e...</td>\n",
       "    </tr>\n",
       "  </tbody>\n",
       "</table>\n",
       "<p>2374 rows × 4 columns</p>\n",
       "</div>"
      ],
      "text/plain": [
       "                                                   text Sentiment  \\\n",
       "0     It's a crazy place with surprisingly good serv...  POSITIVE   \n",
       "1     Great Food & Service !! I had the pancakes and...  POSITIVE   \n",
       "2     It was a group of us and we had issues with ou...  NEGATIVE   \n",
       "3     Omg. Don't go here....waited and waited for my...     MIXED   \n",
       "4     Clean restaurant with quick and friendly servi...     MIXED   \n",
       "...                                                 ...       ...   \n",
       "2369  Weren't greeted and left after having been sea...  NEGATIVE   \n",
       "2370  I'm disgusted. Never in my life have I eaten a...  NEGATIVE   \n",
       "2371  We don't really go to Ihops, now and then, but...     MIXED   \n",
       "2372  Breakfast turned into upset stomach morning I ...  NEGATIVE   \n",
       "2373  This restuarant has the potential of being a f...     MIXED   \n",
       "\n",
       "                                         SentimentScore  \\\n",
       "0     {'Positive': 0.9992786049842834, 'Negative': 7...   \n",
       "1     {'Positive': 0.8656385540962219, 'Negative': 0...   \n",
       "2     {'Positive': 0.0001349038939224556, 'Negative'...   \n",
       "3     {'Positive': 0.08477035909891129, 'Negative': ...   \n",
       "4     {'Positive': 0.17850905656814575, 'Negative': ...   \n",
       "...                                                 ...   \n",
       "2369  {'Positive': 0.0182338897138834, 'Negative': 0...   \n",
       "2370  {'Positive': 0.0005381907103583217, 'Negative'...   \n",
       "2371  {'Positive': 0.12145804613828659, 'Negative': ...   \n",
       "2372  {'Positive': 0.021291078999638557, 'Negative':...   \n",
       "2373  {'Positive': 0.011001946404576302, 'Negative':...   \n",
       "\n",
       "                                             KeyPhrases  \n",
       "0     [a crazy place, surprisingly good service, dec...  \n",
       "1     [the pancakes, Bacon, My wife, the BLT, lots, ...  \n",
       "2     [a group, issues, our order, our orders, The c...  \n",
       "3     [my food, only half, my pancakes, more ice tea...  \n",
       "4     [Clean restaurant, quick and friendly service,...  \n",
       "...                                                 ...  \n",
       "2369  [ten minutes, Table, drinks, the same time, Ou...  \n",
       "2370  [my life, an ihop, my omelet, black hair, a ne...  \n",
       "2371  [Ihops, This one, a pretty low rating, The dec...  \n",
       "2372  [Breakfast, upset stomach morning, my breakfas...  \n",
       "2373  [This restuarant, the potential, a five star e...  \n",
       "\n",
       "[2374 rows x 4 columns]"
      ]
     },
     "execution_count": 33,
     "metadata": {},
     "output_type": "execute_result"
    }
   ],
   "source": [
    "# Imprimir\n",
    "df[['text','Sentiment', 'SentimentScore', 'KeyPhrases']]"
   ]
  },
  {
   "cell_type": "code",
   "execution_count": 34,
   "id": "3a21246d-8fbb-428c-bdc8-4ee759588dd4",
   "metadata": {
    "tags": []
   },
   "outputs": [],
   "source": [
    "# Exportar df a csv\n",
    "df.to_csv('/Users/erwinminor/Desktop/yelp_ihop_reviews_sentiment_key.csv', index=False)"
   ]
  },
  {
   "cell_type": "code",
   "execution_count": null,
   "id": "0e1ed3f9",
   "metadata": {},
   "outputs": [],
   "source": [
    "# hacemos todo el codigo en un solo script\n",
    "\n",
    "import pandas as pd\n",
    "import boto3\n",
    "\n",
    "df = pd.read_csv('/Users/erwinminor/Downloads/yelp_ihop_reviews.csv')\n",
    "\n",
    "comprehend = boto3.client('comprehend')\n",
    "\n",
    "# Función para analizar el sentimiento de una reseña\n",
    "def analyze_sentiment(text):\n",
    "    response = comprehend.detect_sentiment(Text=text, LanguageCode='en')\n",
    "    sentiment = response['Sentiment']\n",
    "    sentiment_scores = response['SentimentScore']\n",
    "    return sentiment, sentiment_scores\n",
    "\n",
    "# Función para extraer frases clave de una reseña\n",
    "def extract_key_phrases(text):\n",
    "    response = comprehend.detect_key_phrases(Text=text, LanguageCode='en')\n",
    "    key_phrases = [phrase['Text'] for phrase in response['KeyPhrases']]\n",
    "    return key_phrases\n",
    "\n",
    "# Aplicar las funciones a las reseñas y obtener un DataFrame con los resultados\n",
    "df[['Sentiment', 'SentimentScore']] = df['text'].apply(lambda x: pd.Series(analyze_sentiment(x)))\n",
    "df['KeyPhrases'] = df['text'].apply(lambda x: extract_key_phrases(x))\n",
    "\n",
    "# Exportar df a csv\n",
    "df.to_csv('/Users/erwinminor/Desktop/yelp_ihop_reviews_sentiment_key.csv', index=False)"
   ]
  }
 ],
 "metadata": {
  "kernelspec": {
   "display_name": "Python 3 (ipykernel)",
   "language": "python",
   "name": "python3"
  },
  "language_info": {
   "codemirror_mode": {
    "name": "ipython",
    "version": 3
   },
   "file_extension": ".py",
   "mimetype": "text/x-python",
   "name": "python",
   "nbconvert_exporter": "python",
   "pygments_lexer": "ipython3",
   "version": "3.11.4"
  }
 },
 "nbformat": 4,
 "nbformat_minor": 5
}
